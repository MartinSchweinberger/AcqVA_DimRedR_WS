{
    "cells": [
        {
            "cell_type": "markdown",
            "metadata": {},
            "source": [
                "![Introduction to Data Visualization with R - AcqVA Aurora workshop](https://slcladal.github.io/images/acqvalab.png)\n",
                "\n",
                "# Introduction to Data Visualization with R - AcqVA Aurora workshop\n",
                "\n",
                "This document only contains the code we will use in this workshop and very minimal descriptions.\n",
                "\n",
                "[Here](https://github.com/MartinSchweinberger/AcqVA_DataVisR_WS) is the link to an GitHub repository with all materials.\n",
                "\n",
                "## What to do before the workshop\n"
            ]
        },
        {
            "cell_type": "code",
            "execution_count": null,
            "metadata": {},
            "outputs": [],
            "source": [
                "# update R\n",
                "#install.packages(\"installr\")\n",
                "#library(installr)\n",
                "#updateR()\n",
                "# take time\n",
                "t0 <- Sys.time()\n",
                "# install required packages\n",
                "install.packages(c(\"dplyr\", \"ggplot2\", \"here\", \"tidyr\",  \"readxl\", \"stringr\", \"cowplot\"), dependencies = F)\n",
                "install.packages(\"xlsx\")\n",
                "t1 <- Sys.time()\n",
                "t1-t0\n"
            ]
        },
        {
            "cell_type": "markdown",
            "metadata": {},
            "source": [
                "# Getting started\n",
                "\n",
                "For everything to work, please do the following:\n",
                "\n",
                "1. Please copy this Jupyter notebook so that you are able to edit it. For this, simply go to: File > Save a copy in Drive.\n",
                "\n",
                "2. Install the packages you need for this workshop (this will take a couple of minutes).\n",
                "\n",
                "Once you have done that, you are good to go.\n",
                "\n",
                "## Primer\n",
                "\n",
                "\n",
                "To execute the code, simply click on the *Play* button in the top right corner of the code box.\n"
            ]
        },
        {
            "cell_type": "code",
            "execution_count": null,
            "metadata": {},
            "outputs": [],
            "source": [
                "# generate two variables (x and y)\n",
                "x <- sample(seq(0, 1, 0.01), 100) # draw a sample of 100 from numbers between 0 and 1\n",
                "y <- rep(c(\"Group A\", \"Group B\"), each = 50) # create a vector of 100 representing 2 groups\n",
                "# create a box plot\n",
                "boxplot(x ~ y)           \n"
            ]
        },
        {
            "cell_type": "markdown",
            "metadata": {},
            "source": [
                "Yay! You created a nice boxplot in R. \n",
                "\n"
            ]
        },
        {
            "cell_type": "code",
            "execution_count": null,
            "metadata": {},
            "outputs": [],
            "source": [
                "# create a nicer box plot\n",
                "boxplot(x ~ y, \n",
                "        col = c(\"orange\", \"lightblue\"), # define colors of boxes\n",
                "        xlab = \"Groups\",                # define x-axis label\n",
                "        ylab = \"Probability\")           # define y-axis label\n"
            ]
        },
        {
            "cell_type": "markdown",
            "metadata": {},
            "source": [
                "## Today's Data\n",
                "\n",
                "\n",
                "We will use 3 data sets:\n",
                "\n",
                "1. **`data_german`**\n",
                "\n",
                "2. **`L2EnglishIntervention`**\n",
                "\n",
                "3. **`AJT_V2`**\n",
                "\n",
                "## Session preparation\n",
                "\n",
                "Now, we start by preparing the session.\n"
            ]
        },
        {
            "cell_type": "code",
            "execution_count": null,
            "metadata": {},
            "outputs": [],
            "source": [
                "# load packages\n",
                "library(dplyr)\n",
                "library(here)\n",
                "library(readxl)\n",
                "library(xlsx)\n",
                "library(ggplot2)\n",
                "library(tidyr)\n",
                "library(stringr)\n",
                "library(cowplot)\n"
            ]
        },
        {
            "cell_type": "markdown",
            "metadata": {},
            "source": [
                "# How to load different data formats into R\n",
                "\n",
                "## Load files when working in Google Colab\n",
                "\n",
                "You can also use you own data. The code chunk below shows you how to upload two files from your own computer **BUT** to be able to load your own data, you need to click on the folder symbol to the left of the screen:\n",
                "\n",
                "![Colab Folder Symbol](https://slcladal.github.io/images/ColabFolder.png)\n",
                "\n",
                "Then on the upload symbol. \n",
                "\n",
                "![Colab Upload Symbol](https://slcladal.github.io/images/ColabUpload.png)\n",
                "\n",
                "\n",
                "Next, upload the files you want to analyze and then the respective files names in the `file` argument of the `read_xlsx` function. When you then execute the code (like to code chunk below, you will upload your own data.\n",
                "\n",
                "To apply the code and functions below to your own data, you will need to modify the code chunks and replace the data we use here with your own data object. \n",
                "\n",
                "\n",
                "## Load xlsx-file when working in RStudio on  your own computer\n"
            ]
        },
        {
            "cell_type": "code",
            "execution_count": null,
            "metadata": {},
            "outputs": [],
            "source": [
                "# load xlsx data from Google Drive \n",
                "myxlsx <- readxl::read_xlsx(\"data_german.xlsx\", sheet = 1)\n",
                "# load xlsx from the data folder in your project folder\n",
                "#myxlsx <- readxl::read_xlsx(here::here(\"data\", \"data_german.xlsx\"), sheet = 1)\n",
                "# inspect data (the head function shows the first 6 rows of a table or data frame)\n",
                "head(myxlsx)\n"
            ]
        },
        {
            "cell_type": "markdown",
            "metadata": {},
            "source": [
                "* save data\n",
                "\n"
            ]
        },
        {
            "cell_type": "code",
            "execution_count": null,
            "metadata": {},
            "outputs": [],
            "source": [
                "# into the the data folder in your project folder\n",
                "#xlsx::write.xlsx(myxlsx, here::here(\"data\", \"myxlsx.xlsx\"))\n",
                "# into Google Colab\n",
                "xlsx::write.xlsx(myxlsx, \"myxlsx.xlsx\")\n"
            ]
        },
        {
            "cell_type": "markdown",
            "metadata": {},
            "source": [
                "## Load csv-file when working in RStudio on  your own computer\n",
                "\n",
                "**Make sure you have uploaded the file `data_german.csv` into Google Colab for this to work!**\n"
            ]
        },
        {
            "cell_type": "code",
            "execution_count": null,
            "metadata": {},
            "outputs": [],
            "source": [
                "# load csv file from Google Drive \n",
                "mycsv <- read.csv(\"data_german.csv\")\n",
                "# load csv from the data folder in your project folder\n",
                "#mycsv <- read.csv(here::here(\"data\", \"data_german.csv\"))\n",
                "# inspect data\n",
                "head(mycsv)\n"
            ]
        },
        {
            "cell_type": "markdown",
            "metadata": {},
            "source": [
                "* save data\n",
                "\n"
            ]
        },
        {
            "cell_type": "code",
            "execution_count": null,
            "metadata": {},
            "outputs": [],
            "source": [
                "# into the the data folder in your project folder\n",
                "#write.csv(mycsv, here::here(\"data\", \"mycsv.csv\"))\n",
                "# into Google Colab\n",
                "write.csv(mycsv, \"mycsv.csv\")\n"
            ]
        },
        {
            "cell_type": "markdown",
            "metadata": {},
            "source": [
                "## Load txt-file when working in RStudio on  your own computer\n",
                "\n",
                "Again: make sure you have uploaded the file `data_german.txt` into Google Colab for this to work!\n"
            ]
        },
        {
            "cell_type": "code",
            "execution_count": null,
            "metadata": {},
            "outputs": [],
            "source": [
                "# load txt file from Google Drive \n",
                "mytxt <- read.delim(\"data_german.txt\", sep = \"\\t\")\n",
                "# load txt from the data folder in your project folder\n",
                "#mytxt <- read.delim(here::here(\"data\", \"data_german.txt\"), sep = \"\\t\")\n",
                "# inspect data\n",
                "head(mytxt)\n"
            ]
        },
        {
            "cell_type": "markdown",
            "metadata": {},
            "source": [
                "* save data\n",
                "\n"
            ]
        },
        {
            "cell_type": "code",
            "execution_count": null,
            "metadata": {},
            "outputs": [],
            "source": [
                "# into the the data folder in your project folder\n",
                "#write.table(mytxt, here::here(\"data\", \"mytxt.txt\"), sep = \"\\t\")\n",
                "# into Google Colab\n",
                "write.table(mytxt, \"mytxt.txt\", sep = \"\\t\")\n"
            ]
        },
        {
            "cell_type": "markdown",
            "metadata": {},
            "source": [
                "## Load rda-file when working in RStudio on  your own computer\n",
                "\n",
                "Again: make sure you have uploaded the file `data_german.rda` into Google Colab for this to work!\n"
            ]
        },
        {
            "cell_type": "code",
            "execution_count": null,
            "metadata": {},
            "outputs": [],
            "source": [
                "# load xlsx data from Google Drive \n",
                "myrda <- readRDS(\"data_german.rda\")\n",
                "# load txt from the data folder in your project folder\n",
                "#myrda <- readRDS(here::here(\"data\", \"data_german.rda\"))\n",
                "# inspect data\n",
                "head(myrda)\n"
            ]
        },
        {
            "cell_type": "markdown",
            "metadata": {},
            "source": [
                "* save data\n",
                "\n"
            ]
        },
        {
            "cell_type": "code",
            "execution_count": null,
            "metadata": {},
            "outputs": [],
            "source": [
                "# into the the data folder in your project folder\n",
                "#base::saveRDS(myrda, file = here::here(\"data\", \"myrda.rda\"))\n",
                "# into Google Colab\n",
                "base::saveRDS(myrda, file = \"myrda.rda\")\n"
            ]
        },
        {
            "cell_type": "markdown",
            "metadata": {},
            "source": [
                "# Basics of data preparation\n",
                "\n",
                "Basic procedures for processing tabular data:\n",
                "\n",
                "* `mutate`: creates new or changes existing columns\n",
                "\n",
                "* `filter`: chooses rows based on given criteria\n",
                "\n",
                "* `select`: chooses columns based on given criteria\n",
                "\n",
                "* `group_by`: groups rows based on criteria in other columns\n",
                "\n",
                "* `summarize`: summarizes column values\n",
                "\n",
                "* `spread`: split values of a column and spread it across columns\n",
                "\n",
                "* `gather`: take values of several columns and combine them into a single column \n",
                "\n",
                "* `%>%`: pipe-symbol that can be read as *and then*\n",
                "\n",
                "\n",
                "**Example**\n"
            ]
        },
        {
            "cell_type": "code",
            "execution_count": null,
            "metadata": {},
            "outputs": [],
            "source": [
                "myxlsx %>% # take the myxlsx data and then\n",
                "  # create a new column called Age that contains the age of children in years \n",
                "  mutate(Age = age_months/12) %>% # and then\n",
                "  # only keep rows with children older than  values higher than 1\n",
                "  filter(Age > 8) %>% # and then\n",
                "  # only retain the columns Age, accent_response, and family\n",
                "  select(Age, accent_response, family) -> newdata # store the results in an object called newdata\n",
                "# inspect newdata\n",
                "head(newdata)\n"
            ]
        },
        {
            "cell_type": "markdown",
            "metadata": {},
            "source": [
                "We can also group and summarize the data now.\n",
                "\n"
            ]
        },
        {
            "cell_type": "code",
            "execution_count": null,
            "metadata": {},
            "outputs": [],
            "source": [
                "newdata %>%\n",
                "  group_by(family, accent_response) %>%\n",
                "  summarise(N = n()) -> newdata2\n",
                "# inspect\n",
                "newdata2\n"
            ]
        },
        {
            "cell_type": "markdown",
            "metadata": {},
            "source": [
                "Now, we have the number of observations  for each combination or *family* and *accent_response*.\n",
                "\n",
                "\n",
                "# Getting started with ggplot2\n"
            ]
        },
        {
            "cell_type": "code",
            "execution_count": null,
            "metadata": {},
            "outputs": [],
            "source": [
                "ggplot(myxlsx, aes(x = accent_response, y = age_months))\n",
                "\n"
            ]
        },
        {
            "cell_type": "markdown",
            "metadata": {},
            "source": [
                "## Box Plots\n",
                "\n",
                "* add the geom-layer\n"
            ]
        },
        {
            "cell_type": "code",
            "execution_count": null,
            "metadata": {},
            "outputs": [],
            "source": [
                "ggplot(myxlsx, aes(x = accent_response, y = age_months)) +\n",
                "  geom_boxplot()\n"
            ]
        },
        {
            "cell_type": "markdown",
            "metadata": {},
            "source": [
                "### Saving plots\n",
                "\n",
                "We can use the `ggsave` function to save plots to your computer.\n",
                "\n",
                "**WARNING!** The code below for loading and saving data only works if you are **not working** in the Jupyter notebook but in RStudio on your own computer!\n"
            ]
        },
        {
            "cell_type": "code",
            "execution_count": null,
            "metadata": {},
            "outputs": [],
            "source": [
                "ggsave(\"myfirstggplot.png\")\n",
                "\n"
            ]
        },
        {
            "cell_type": "markdown",
            "metadata": {},
            "source": [
                "Another way of doing this: piping\n",
                "\n",
                "Prettifying the plot\n",
                "\n",
                "* Get rid of NAs\n"
            ]
        },
        {
            "cell_type": "code",
            "execution_count": null,
            "metadata": {},
            "outputs": [],
            "source": [
                "myxlsx %>%\n",
                "  drop_na() %>%\n",
                "ggplot(aes(x = accent_response, y = age_months)) +\n",
                "  geom_boxplot()\n"
            ]
        },
        {
            "cell_type": "markdown",
            "metadata": {},
            "source": [
                "* Reorder accent_response\n",
                "\n"
            ]
        },
        {
            "cell_type": "code",
            "execution_count": null,
            "metadata": {},
            "outputs": [],
            "source": [
                "myxlsx %>%\n",
                "  drop_na() %>%\n",
                "  mutate(accent_response = factor(accent_response, \n",
                "                                  levels = c(\"no\", \"w\", \"s\"), \n",
                "                                  labels = c(\"No accent\", \"Weak accent\", \"Strong accent\"))) %>%\n",
                "ggplot(aes(x = accent_response, y = age_months)) +\n",
                "  geom_boxplot()\n"
            ]
        },
        {
            "cell_type": "markdown",
            "metadata": {},
            "source": [
                "* Changing axes-labels\n",
                "\n",
                "Option 1: change the data\n"
            ]
        },
        {
            "cell_type": "code",
            "execution_count": null,
            "metadata": {},
            "outputs": [],
            "source": [
                "myxlsx %>%\n",
                "  drop_na() %>%\n",
                "  mutate(accent_response = factor(accent_response, \n",
                "                                  levels = c(\"no\", \"w\", \"s\"), \n",
                "                                  labels = c(\"No accent\", \"Weak accent\", \"Strong accent\"))) %>%\n",
                "ggplot(aes(x = accent_response, y = age_months)) +\n",
                "  geom_boxplot() +\n",
                "  labs(x = \"Accent Rating\",\n",
                "       y = \"Age (in months)\")\n"
            ]
        },
        {
            "cell_type": "markdown",
            "metadata": {},
            "source": [
                "Option 2: change the labels directly\n",
                "\n"
            ]
        },
        {
            "cell_type": "code",
            "execution_count": null,
            "metadata": {},
            "outputs": [],
            "source": [
                "myxlsx %>%\n",
                "  drop_na() %>%\n",
                "  ggplot(aes(x = accent_response, y = age_months)) +\n",
                "  geom_boxplot() +\n",
                "  labs(x = \"Accent Rating\",\n",
                "       y = \"Age (in months)\") +\n",
                "  scale_x_discrete(limits = c(\"no\", \"w\", \"s\"), \n",
                "                   labels = c(\"No accent\", \"Weak accent\", \"Strong accent\"))\n"
            ]
        },
        {
            "cell_type": "markdown",
            "metadata": {},
            "source": [
                "* Add color\n",
                "\n"
            ]
        },
        {
            "cell_type": "code",
            "execution_count": null,
            "metadata": {},
            "outputs": [],
            "source": [
                "myxlsx %>%\n",
                "  drop_na() %>%\n",
                "  ggplot(aes(x = accent_response, y = age_months, fill = accent_response)) +\n",
                "  geom_boxplot() +\n",
                "  labs(x = \"Accent Rating\",\n",
                "       y = \"Age (in months)\") +\n",
                "  scale_x_discrete(limits = c(\"no\", \"w\", \"s\"), \n",
                "                   labels = c(\"No accent\", \"Weak accent\", \"Strong accent\"))\n"
            ]
        },
        {
            "cell_type": "markdown",
            "metadata": {},
            "source": [
                "* Change background to white\n",
                "\n"
            ]
        },
        {
            "cell_type": "code",
            "execution_count": null,
            "metadata": {},
            "outputs": [],
            "source": [
                "myxlsx %>%\n",
                "  drop_na() %>%\n",
                "  ggplot(aes(x = accent_response, y = age_months, fill = accent_response)) +\n",
                "  geom_boxplot() +\n",
                "  labs(x = \"Accent Rating\",\n",
                "       y = \"Age (in months)\") +\n",
                "  scale_x_discrete(limits = c(\"no\", \"w\", \"s\"), \n",
                "                   labels = c(\"No accent\", \"Weak accent\", \"Strong accent\")) +\n",
                "  theme_bw()\n"
            ]
        },
        {
            "cell_type": "markdown",
            "metadata": {},
            "source": [
                "* Move legend to the top\n",
                "\n"
            ]
        },
        {
            "cell_type": "code",
            "execution_count": null,
            "metadata": {},
            "outputs": [],
            "source": [
                "myxlsx %>%\n",
                "  drop_na() %>%\n",
                "  ggplot(aes(x = accent_response, y = age_months, fill = accent_response)) +\n",
                "  geom_boxplot() +\n",
                "  labs(x = \"Accent Rating\",\n",
                "       y = \"Age (in months)\")  +\n",
                "  scale_x_discrete(limits = c(\"no\", \"w\", \"s\"), \n",
                "                   labels = c(\"No accent\", \"Weak accent\", \"Strong accent\")) +\n",
                "  theme_bw() +\n",
                "  theme(legend.position = \"top\") +\n",
                "  guides(fill=guide_legend(title=\"Levels of Accent\"))\n"
            ]
        },
        {
            "cell_type": "markdown",
            "metadata": {},
            "source": [
                "* Change axes limits\n",
                "\n"
            ]
        },
        {
            "cell_type": "code",
            "execution_count": null,
            "metadata": {},
            "outputs": [],
            "source": [
                "myxlsx %>%\n",
                "  drop_na() %>%\n",
                "  ggplot(aes(x = accent_response, y = age_months, fill = accent_response)) +\n",
                "  geom_boxplot() +\n",
                "  labs(x = \"Accent Rating\",\n",
                "       y = \"Age (in months)\")  +\n",
                "  scale_x_discrete(limits = c(\"no\", \"w\", \"s\"), \n",
                "                   labels = c(\"No accent\", \"Weak accent\", \"Strong accent\")) +\n",
                "  theme_bw() +\n",
                "  theme(legend.position = \"top\") +\n",
                "  guides(fill=guide_legend(title=\"Levels of Accent\")) +\n",
                "  coord_cartesian(x = c(0.5, 3.5),\n",
                "                  y = c(0, 150))\n"
            ]
        },
        {
            "cell_type": "markdown",
            "metadata": {},
            "source": [
                "* Change colors\n",
                "\n"
            ]
        },
        {
            "cell_type": "code",
            "execution_count": null,
            "metadata": {},
            "outputs": [],
            "source": [
                "myxlsx %>%\n",
                "  drop_na() %>%\n",
                "  ggplot(aes(x = accent_response, y = age_months, fill = accent_response)) +\n",
                "  geom_boxplot() +\n",
                "  labs(x = \"Accent Rating\",\n",
                "       y = \"Age (in months)\")  +\n",
                "  scale_x_discrete(limits = c(\"no\", \"w\", \"s\"), \n",
                "                   labels = c(\"No accent\", \"Weak accent\", \"Strong accent\")) +\n",
                "  theme_bw() +\n",
                "  theme(legend.position = \"top\") +\n",
                "  guides(fill=guide_legend(title=\"Levels of Accent\")) +\n",
                "  coord_cartesian(x = c(0.5, 3.5),\n",
                "                  y = c(0, 150)) +\n",
                "  scale_fill_manual(values = c(\"red\", \"blue\", \"gray\"))\n"
            ]
        },
        {
            "cell_type": "markdown",
            "metadata": {},
            "source": [
                "What if we want to include another factor?\n",
                "\n"
            ]
        },
        {
            "cell_type": "code",
            "execution_count": null,
            "metadata": {},
            "outputs": [],
            "source": [
                "myxlsx %>%\n",
                "  drop_na() %>%\n",
                "  ggplot(aes(x = accent_response, y = age_months, fill = accent_response)) +\n",
                "  geom_boxplot() +\n",
                "  labs(x = \"Accent Rating\",\n",
                "       y = \"Age (in months)\")  +\n",
                "  scale_x_discrete(limits = c(\"no\", \"w\", \"s\"), \n",
                "                   labels = c(\"No accent\", \"Weak accent\", \"Strong accent\")) +\n",
                "  theme_bw() +\n",
                "  theme(legend.position = \"top\") +\n",
                "  guides(fill=guide_legend(title=\"Levels of Accent\")) +\n",
                "  coord_cartesian(x = c(0.5, 3.5),\n",
                "                  y = c(0, 150)) +\n",
                "  scale_fill_manual(values = c(\"red\", \"blue\", \"gray\"))  + \n",
                "  facet_grid(~family)\n"
            ]
        },
        {
            "cell_type": "markdown",
            "metadata": {},
            "source": [
                "* Change direction of axes tick-marks\n",
                "\n"
            ]
        },
        {
            "cell_type": "code",
            "execution_count": null,
            "metadata": {},
            "outputs": [],
            "source": [
                "myxlsx %>%\n",
                "  drop_na() %>%\n",
                "  ggplot(aes(x = accent_response, y = age_months, fill = accent_response)) +\n",
                "  geom_boxplot() +\n",
                "  labs(x = \"Accent Rating\",\n",
                "       y = \"Age (in months)\")  +\n",
                "  scale_x_discrete(limits = c(\"no\", \"w\", \"s\"), \n",
                "                   labels = c(\"No accent\", \"Weak accent\", \"Strong accent\")) +\n",
                "  theme_bw() +\n",
                "  theme(legend.position = \"top\",\n",
                "        axis.text.x = element_text(size=8, angle=90)) +\n",
                "  guides(fill=guide_legend(title=\"Levels of Accent\")) +\n",
                "  coord_cartesian(x = c(0.5, 3.5),\n",
                "                  y = c(0, 150)) +\n",
                "  scale_fill_manual(values = c(\"red\", \"blue\", \"gray\"))  + \n",
                "  facet_grid(~family)\n"
            ]
        },
        {
            "cell_type": "markdown",
            "metadata": {},
            "source": [
                "* Change header of legend\n",
                "\n"
            ]
        },
        {
            "cell_type": "code",
            "execution_count": null,
            "metadata": {},
            "outputs": [],
            "source": [
                "myxlsx %>%\n",
                "  drop_na() %>%\n",
                "  mutate(family = case_when(family == \"bil-mixed\" ~ \"Mixed bilingual\",\n",
                "                            family == \"bil-rus\" ~ \"Bilingual Russian\",\n",
                "                            family == \"mono-de\" ~ \"Monolingual German\",\n",
                "                            TRUE ~ family)) %>%\n",
                "ggplot(aes(x = accent_response, y = age_months, fill = accent_response)) +\n",
                "  geom_boxplot() +\n",
                "  labs(x = \"Accent Rating\",\n",
                "       y = \"Age (in months)\")  +\n",
                "  scale_x_discrete(limits = c(\"no\", \"w\", \"s\"), \n",
                "                   labels = c(\"No accent\", \"Weak accent\", \"Strong accent\")) +\n",
                "  theme_bw() +\n",
                "  theme(legend.position = \"top\",\n",
                "        axis.text.x = element_text(size=8, angle=90)) +\n",
                "  guides(fill=guide_legend(title=\"Levels of Accent\")) +\n",
                "  coord_cartesian(x = c(0.5, 3.5),\n",
                "                  y = c(0, 150)) +\n",
                "  scale_fill_manual(values = c(\"red\", \"blue\", \"gray\"))  + \n",
                "  facet_grid(~family)\n"
            ]
        },
        {
            "cell_type": "markdown",
            "metadata": {},
            "source": [
                "* Save plot\n",
                "\n"
            ]
        },
        {
            "cell_type": "code",
            "execution_count": null,
            "metadata": {},
            "outputs": [],
            "source": [
                "ggsave(\"myniceggplot.png\")\n",
                "\n"
            ]
        },
        {
            "cell_type": "markdown",
            "metadata": {},
            "source": [
                "### Exercise\n",
                "\n",
                "The code below loads another data set called `exdata`. Use the data to create another boxplot (also, add colors and try to make it nice and publishable). I have made it a bit easier for you by calculating the mean of *Response-code*).\n"
            ]
        },
        {
            "cell_type": "code",
            "execution_count": null,
            "metadata": {},
            "outputs": [],
            "source": [
                "exdata <- read_excel(\"L2EnglishIntervention.xlsx\") %>%\n",
                "  dplyr::mutate_if(is.character, factor) %>%\n",
                "  dplyr::group_by(Group, Test, `Test-item`, Condition, Grammaticality) %>%\n",
                "  dplyr::summarise(Response_mean = mean(`Respose-code`))\n",
                "# inspect\n",
                "head(exdata)\n"
            ]
        },
        {
            "cell_type": "markdown",
            "metadata": {},
            "source": [
                "You will most probably encounter some difficulties - don't worry and don't lose hope! We will try and do this together!\n",
                "\n",
                "If you want to have an aim, try and re-create the following boxplot:\n",
                "\n",
                "![Example boxplot](https://slcladal.github.io/images/exboxplot.png)\n",
                "\n",
                "You can write code in the code box below.\n"
            ]
        },
        {
            "cell_type": "code",
            "execution_count": null,
            "metadata": {},
            "outputs": [],
            "source": [
                "\n",
                "\n"
            ]
        },
        {
            "cell_type": "markdown",
            "metadata": {},
            "source": [
                "Below is the skeleton script for the plot (in case you need help ;)\n",
                "\n"
            ]
        },
        {
            "cell_type": "code",
            "execution_count": null,
            "metadata": {},
            "outputs": [],
            "source": [
                "exdata %>%\n",
                "  dplyr::filter( != \"\") %>%\n",
                "  ggplot(aes(x = , y = , fill = )) +\n",
                "  geom_boxplot() +\n",
                "  facet_grid( ~ ) +\n",
                "  theme_bw() +\n",
                "  labs(y = \"\") +\n",
                "  theme(legend.position = \"top\")\n"
            ]
        },
        {
            "cell_type": "markdown",
            "metadata": {},
            "source": [
                "## Excursion: in-built statistics\n",
                "\n",
                "One nice thing about `ggplot` is that it allows to visualize statistical properties such as mean, standard errors or standard deviations very easily using the `stat_summary` geom (see below).\n"
            ]
        },
        {
            "cell_type": "code",
            "execution_count": null,
            "metadata": {},
            "outputs": [],
            "source": [
                "# install required packages\n",
                "install.packages(\"Hmisc\")\n",
                "# load package\n",
                "library(Hmisc)\n",
                "# load data and plot\n",
                "read_excel(\"L2EnglishIntervention.xlsx\") %>%\n",
                "  ggplot(aes(x = Test, y = `Respose-code`, group = Group, color = Group)) +\n",
                "  stat_summary(fun = mean, geom = \"point\", aes(group= Group)) +          \n",
                "  stat_summary(fun.data = mean_cl_boot,       \n",
                "               # add error bars\n",
                "               geom = \"errorbar\", width = 0.2) +\n",
                "  facet_grid(Grammaticality~Condition) +\n",
                "  theme_bw()\n"
            ]
        },
        {
            "cell_type": "markdown",
            "metadata": {},
            "source": [
                "## Line Plots\n",
                "\n",
                "Prepare data\n",
                "\n",
                "* remove NAs\n"
            ]
        },
        {
            "cell_type": "code",
            "execution_count": null,
            "metadata": {},
            "outputs": [],
            "source": [
                "linedat <- myxlsx %>%\n",
                "  drop_na()\n",
                "# inspect data\n",
                "head(linedat)\n"
            ]
        },
        {
            "cell_type": "markdown",
            "metadata": {},
            "source": [
                "* create column with age groups\n",
                "\n"
            ]
        },
        {
            "cell_type": "code",
            "execution_count": null,
            "metadata": {},
            "outputs": [],
            "source": [
                "linedat <- linedat %>%\n",
                "  mutate(age_cat = case_when(age_months < 60 ~ \"41-60\",\n",
                "                             age_months < 70 ~ \"61-70\",\n",
                "                             age_months < 80 ~ \"71-80\",\n",
                "                             age_months < 90 ~ \"81-90\",\n",
                "                             age_months < 100 ~ \"91-100\",\n",
                "                             age_months < 110 ~ \"101-110\",\n",
                "                             age_months < 120 ~ \"111-120\"),\n",
                "         # convert into factor with set order of levels\n",
                "         age_cat = factor(age_cat, levels = c(\"41-60\", \"61-70\", \"71-80\", \"81-90\", \n",
                "                                              \"91-100\", \"101-110\", \"111-120\"))) \n",
                "# inspect\n",
                "head(linedat)\n"
            ]
        },
        {
            "cell_type": "markdown",
            "metadata": {},
            "source": [
                "* create column with mean accent rating per family type and age group\n",
                "\n"
            ]
        },
        {
            "cell_type": "code",
            "execution_count": null,
            "metadata": {},
            "outputs": [],
            "source": [
                "linedat <- linedat %>%\n",
                "  # grouping by age group and family type\n",
                "  group_by(family, age_cat) %>%\n",
                "  # calculate mean of accent rating\n",
                "  summarise(accent_numeric = mean(accent_numeric))\n"
            ]
        },
        {
            "cell_type": "markdown",
            "metadata": {},
            "source": [
                "Generate plot\n",
                "\n"
            ]
        },
        {
            "cell_type": "code",
            "execution_count": null,
            "metadata": {},
            "outputs": [],
            "source": [
                "linedat  %>%\n",
                "  ggplot(aes(x = age_cat, y = accent_numeric,\n",
                "             # generate different lines for each family type\n",
                "             group = family, \n",
                "             # give different colors to each line\n",
                "             color = family)) +\n",
                "  geom_line()\n"
            ]
        },
        {
            "cell_type": "markdown",
            "metadata": {},
            "source": [
                "Prettify plot\n",
                "\n",
                "* add different line types\n",
                "\n",
                "* increase thickness of lines\n"
            ]
        },
        {
            "cell_type": "code",
            "execution_count": null,
            "metadata": {},
            "outputs": [],
            "source": [
                "linedat %>%\n",
                "  ggplot(aes(x = age_cat, y = accent_numeric, \n",
                "                   group = family, color = family, linetype = family)) +\n",
                "  # change line thickness\n",
                "  geom_line(size = 1.5)\n"
            ]
        },
        {
            "cell_type": "markdown",
            "metadata": {},
            "source": [
                "* white background\n",
                "\n",
                "* change axes labels\n"
            ]
        },
        {
            "cell_type": "code",
            "execution_count": null,
            "metadata": {},
            "outputs": [],
            "source": [
                "linedat %>%\n",
                "  ggplot(aes(x = age_cat, y = accent_numeric, \n",
                "                   group = family, color = family, linetype = family)) +\n",
                "  geom_line(size = 1.5) +\n",
                "  theme_bw() +\n",
                "  labs(x = \"Age\", y = \"Accent strength rating\")\n"
            ]
        },
        {
            "cell_type": "markdown",
            "metadata": {},
            "source": [
                "* legend at top\n",
                "* change y-axis tick labels\n"
            ]
        },
        {
            "cell_type": "code",
            "execution_count": null,
            "metadata": {},
            "outputs": [],
            "source": [
                "linedat %>%\n",
                "  ggplot(aes(x = age_cat, y = accent_numeric, \n",
                "                   group = family, color = family, linetype = family)) +\n",
                "  geom_line(size = 1.5) +\n",
                "  theme_bw() +\n",
                "  labs(x = \"Age\", y = \"Accent strength rating\") +\n",
                "  theme(legend.position = \"top\") +\n",
                "  scale_y_discrete(name =\"Accent strength rating\", \n",
                "                   limits = seq(0, 2, 1), \n",
                "                   labels = c(\"No accent\", \"Weak accent\", \"Strong accent\"))\n"
            ]
        },
        {
            "cell_type": "markdown",
            "metadata": {},
            "source": [
                "* change legend text\n",
                "\n"
            ]
        },
        {
            "cell_type": "code",
            "execution_count": null,
            "metadata": {},
            "outputs": [],
            "source": [
                "linedat %>%\n",
                "    mutate(family = case_when(family == \"bil-mixed\" ~ \"Mixed bilingual\",\n",
                "                              family == \"bil-rus\" ~ \"Bilingual Russian\",\n",
                "                              family == \"mono-de\" ~ \"Monolingual German\",\n",
                "                              TRUE ~ family)) %>%\n",
                "  ggplot(aes(x = age_cat, y = accent_numeric, \n",
                "                   group = family, color = family, linetype = family)) +\n",
                "  geom_line(size = 1.5) +\n",
                "  theme_bw() +\n",
                "  labs(x = \"Age\", y = \"Accent strength rating\") +\n",
                "  theme(legend.position = \"top\") +\n",
                "  scale_y_discrete(name =\"Accent strength rating\", \n",
                "                   limits = seq(0, 2, 1), \n",
                "                   labels = c(\"No accent\", \"Weak accent\", \"Strong accent\")) +\n",
                "    guides(linetype=guide_legend(title=\"Family type\"),\n",
                "         color=guide_legend(title=\"Family type\"))\n"
            ]
        },
        {
            "cell_type": "markdown",
            "metadata": {},
            "source": [
                "Save plot\n",
                "\n"
            ]
        },
        {
            "cell_type": "code",
            "execution_count": null,
            "metadata": {},
            "outputs": [],
            "source": [
                "ggsave(\"niceline.png\")\n",
                "\n"
            ]
        },
        {
            "cell_type": "markdown",
            "metadata": {},
            "source": [
                "## Smoothed Line Plots\n",
                "\n",
                "2 numeric variable a or 1 numeric (y) and 1 categorical\n",
                "\n",
                "Generate basic plot\n"
            ]
        },
        {
            "cell_type": "code",
            "execution_count": null,
            "metadata": {},
            "outputs": [],
            "source": [
                "ggplot(myxlsx, aes(x = age_months, y = accent_numeric, \n",
                "                   group = family, color = family, fill = family)) +\n",
                "  geom_smooth()\n"
            ]
        },
        {
            "cell_type": "markdown",
            "metadata": {},
            "source": [
                "### Exercise\n",
                "\n",
                "Based on what you learned before, can you make the plot \"nicer\"?\n",
                "Please change the following:\n",
                "\n",
                "* Axes labels\n",
                "* Background color\n",
                "* Line and fill color\n",
                "* Legend position\n",
                "* legend title\n",
                "* y-axis tick labels\n",
                "\n",
                "The final plot should look sth like this:\n",
                "\n",
                "![Example smoothed line plot](https://slcladal.github.io/images/nicesmooth.png)\n",
                "\n",
                "\n",
                "You can write the code in the following code box.\n"
            ]
        },
        {
            "cell_type": "code",
            "execution_count": null,
            "metadata": {},
            "outputs": [],
            "source": [
                "\n",
                "\n"
            ]
        },
        {
            "cell_type": "markdown",
            "metadata": {},
            "source": [
                "## Bar Chart\n",
                "\n",
                "One categorical variable.\n",
                "\n",
                "\n",
                "Generate basic plot\n"
            ]
        },
        {
            "cell_type": "code",
            "execution_count": null,
            "metadata": {},
            "outputs": [],
            "source": [
                "ggplot(myxlsx, aes(x = family)) +\n",
                "  geom_bar(stat = \"count\")\n"
            ]
        },
        {
            "cell_type": "markdown",
            "metadata": {},
            "source": [
                "Alternative: show pre-calculated frequencies\n",
                "\n",
                "Prepare data\n"
            ]
        },
        {
            "cell_type": "code",
            "execution_count": null,
            "metadata": {},
            "outputs": [],
            "source": [
                "bardata <- myxlsx %>%\n",
                "  # change the levels of family to be more meaningful\n",
                "  mutate(family = case_when(family == \"bil-mixed\" ~ \"Mixed bilingual\",\n",
                "                            family == \"bil-rus\" ~ \"Bilingual Russian\",\n",
                "                            family == \"mono-de\" ~ \"Monolingual German\",\n",
                "                            TRUE ~ family)) %>%\n",
                "  # group by family\n",
                "  group_by(family) %>%\n",
                "  # get frequency of familytypes\n",
                "  summarise(Frequency = n())\n",
                "# inspect\n",
                "head(bardata)\n"
            ]
        },
        {
            "cell_type": "markdown",
            "metadata": {},
            "source": [
                "* add percentage\n",
                "\n"
            ]
        },
        {
            "cell_type": "code",
            "execution_count": null,
            "metadata": {},
            "outputs": [],
            "source": [
                "bardata <- bardata %>%\n",
                "  # ungroup\n",
                "  ungroup() %>%\n",
                "  # calculate total and stre value in extra column called Total\n",
                "  mutate(Total = sum(Frequency)) %>%\n",
                "  # perform calculations row-wise\n",
                "  rowwise() %>%\n",
                "  # calculate percent\n",
                "  mutate(Percent = round(Frequency/Total *100, 1),\n",
                "         # add a Label column with the Frequency and the Percentage value\n",
                "         Label = paste0(Frequency, \" (\", Percent, \"%)\")) %>%\n",
                "  # remove Total column (we don't need it any lonnger)\n",
                "  select(-Total)\n",
                "# check data\n",
                "bardata\n"
            ]
        },
        {
            "cell_type": "markdown",
            "metadata": {},
            "source": [
                "1 numeric and 1 categorical variable\n",
                "\n"
            ]
        },
        {
            "cell_type": "code",
            "execution_count": null,
            "metadata": {},
            "outputs": [],
            "source": [
                "ggplot(bardata, aes(x = family, y = Frequency)) +\n",
                "  geom_bar(stat = \"identity\")\n"
            ]
        },
        {
            "cell_type": "markdown",
            "metadata": {},
            "source": [
                "Prettify plot\n",
                "\n",
                "* change background\n",
                "* modify axes labels\n",
                "* change color/filling\n",
                "* remove legend\n"
            ]
        },
        {
            "cell_type": "code",
            "execution_count": null,
            "metadata": {},
            "outputs": [],
            "source": [
                "ggplot(bardata, aes(x = family, y = Frequency, fill = family)) +\n",
                "  geom_bar(stat = \"identity\") +\n",
                "  theme_bw() +\n",
                "  labs(x = \"Family Type\", y = \"Raw Frequency\") +\n",
                "  theme(legend.position = \"none\")\n"
            ]
        },
        {
            "cell_type": "markdown",
            "metadata": {},
            "source": [
                "* adapt axis range\n",
                "* Add text/annotation\n"
            ]
        },
        {
            "cell_type": "code",
            "execution_count": null,
            "metadata": {},
            "outputs": [],
            "source": [
                "ggplot(bardata, aes(x = family, y = Frequency, fill = family, label = Label)) +\n",
                "  geom_bar(stat = \"identity\") +\n",
                "  theme_bw() +\n",
                "  labs(x = \"Family Type\", y = \"Raw Frequency\") +\n",
                "  theme(legend.position = \"none\") +\n",
                "  coord_cartesian(ylim = c(0, 500)) +\n",
                "  geom_text(vjust=-1.5, position = position_dodge(0.9))\n"
            ]
        },
        {
            "cell_type": "markdown",
            "metadata": {},
            "source": [
                "Save plot\n",
                "\n"
            ]
        },
        {
            "cell_type": "code",
            "execution_count": null,
            "metadata": {},
            "outputs": [],
            "source": [
                "ggsave(\"nicebar.png\")\n",
                "\n"
            ]
        },
        {
            "cell_type": "markdown",
            "metadata": {},
            "source": [
                "### Exercise\n",
                "\n",
                "Use the `regdata` data set (shown below) to create a bargraph that shows the responses by sentence type, word order, and group. Adapt color, axes title, axes tick labels, and try adding text. You can see an example of what the plot looks like below.\n"
            ]
        },
        {
            "cell_type": "code",
            "execution_count": null,
            "metadata": {},
            "outputs": [],
            "source": [
                "regdat <- read.delim(\"AJT_V2.csv\", sep = \";\") %>%\n",
                "  # factorize character variables\n",
                "  dplyr::mutate_if(is.character, factor)\n",
                "# inspect data\n",
                "str(regdat)\n"
            ]
        },
        {
            "cell_type": "markdown",
            "metadata": {},
            "source": [
                "You can see an example of what the plot looks like below.\n",
                "\n",
                "![Example barplot](https://slcladal.github.io/images/barplotex.png)\n",
                "\n",
                "\n",
                "You can write the code in the code box below.\n"
            ]
        },
        {
            "cell_type": "code",
            "execution_count": null,
            "metadata": {},
            "outputs": [],
            "source": [
                "\n",
                "\n"
            ]
        },
        {
            "cell_type": "markdown",
            "metadata": {},
            "source": [
                "## Mosaic plots with vcd\n",
                "\n",
                "* prepare data: tidy format\n"
            ]
        },
        {
            "cell_type": "code",
            "execution_count": null,
            "metadata": {},
            "outputs": [],
            "source": [
                "# install required packages\n",
                "install.packages(\"vcd\")\n",
                "# load packages\n",
                "library(vcd)\n",
                "# process data\n",
                "mosaicdat <- myxlsx %>%\n",
                "  # group by family, age_group, and accent_response\n",
                "  dplyr::group_by(family, age_group, accent_response) %>%\n",
                "  # get frequencies of the configurations\n",
                "  dplyr::summarise(Frequency = n())\n",
                "# inspect\n",
                "mosaicdat\n"
            ]
        },
        {
            "cell_type": "markdown",
            "metadata": {},
            "source": [
                "* ungroup and convert character variables into factors\n",
                "\n"
            ]
        },
        {
            "cell_type": "code",
            "execution_count": null,
            "metadata": {},
            "outputs": [],
            "source": [
                "mosaicdat <- mosaicdat %>%\n",
                "  # ungroup\n",
                "  dplyr::ungroup() %>%\n",
                "  # convert character variables to factors\n",
                "  dplyr::mutate_if(is.character, factor)\n",
                "# inspect\n",
                "mosaicdat\n"
            ]
        },
        {
            "cell_type": "markdown",
            "metadata": {},
            "source": [
                "* split data (the `pull` function *pulls out* the values for a variable)\n",
                "\n"
            ]
        },
        {
            "cell_type": "code",
            "execution_count": null,
            "metadata": {},
            "outputs": [],
            "source": [
                "mos1 <- mosaicdat %>%\n",
                "  # filter out all rows where family is bil-mixed\n",
                "  dplyr::filter(family == \"bil-mixed\") %>%\n",
                "  # pull out the numeric values\n",
                "  dplyr::pull()\n",
                "# inspect\n",
                "mos1\n"
            ]
        },
        {
            "cell_type": "markdown",
            "metadata": {},
            "source": [
                "* we also do this for the other family types\n",
                "\n"
            ]
        },
        {
            "cell_type": "code",
            "execution_count": null,
            "metadata": {},
            "outputs": [],
            "source": [
                "mos2 <- mosaicdat %>%\n",
                "  dplyr::filter(family == \"bil-rus\") %>%\n",
                "  dplyr::pull()\n",
                "mos3 <- mosaicdat %>%\n",
                "  dplyr::filter(family == \"mono-de\") %>%\n",
                "  dplyr::pull()\n",
                "# inspect\n",
                "mos2; mos3\n"
            ]
        },
        {
            "cell_type": "markdown",
            "metadata": {},
            "source": [
                "* generate matrix\n",
                "\n"
            ]
        },
        {
            "cell_type": "code",
            "execution_count": null,
            "metadata": {},
            "outputs": [],
            "source": [
                "# add dimnames (dimension names)\n",
                "row.names <- c(\"no\", \"s\", \"w\")\n",
                "column.names <- c(\"preschool\", \"school\")\n",
                "matrix.names <- c(\"bil-mixed\", \"bil-rus\", \"mono-de\")\n",
                "# generate matrix\n",
                "mos_mx <- array(c(mos1, mos2, mos3), \n",
                "                dim = c(3, 2, 3),\n",
                "                dimnames = list(row.names, \n",
                "                                column.names,\n",
                "                                matrix.names))\n",
                "# inspect\n",
                "mos_mx\n"
            ]
        },
        {
            "cell_type": "markdown",
            "metadata": {},
            "source": [
                "* basic mosaic plot\n",
                "\n"
            ]
        },
        {
            "cell_type": "code",
            "execution_count": null,
            "metadata": {},
            "outputs": [],
            "source": [
                "mosaic(mos_mx,\n",
                "       shade = TRUE,\n",
                "       direction = c(\"h\",  \"v\", \"v\"),\n",
                "       just_labels = c(\"center\", \"center\", \"center\", \"center\"))\n"
            ]
        },
        {
            "cell_type": "markdown",
            "metadata": {},
            "source": [
                "* save mosaic plot\n",
                "\n"
            ]
        },
        {
            "cell_type": "code",
            "execution_count": null,
            "metadata": {},
            "outputs": [],
            "source": [
                "# open connection\n",
                "png(\"mosaic.png\", width = 750, height = 300)\n",
                "# generate plot\n",
                "mosaic(mos_mx,\n",
                "       axis.cex = 15,\n",
                "       shade = TRUE,\n",
                "       direction = c(\"h\",  \"v\", \"v\"),\n",
                "       just_labels = c(\"center\", \"center\", \"center\", \"center\"))\n",
                "# close window\n",
                "dev.off() \n"
            ]
        },
        {
            "cell_type": "markdown",
            "metadata": {},
            "source": [
                "## Visualizing Likert data\n",
                "\n",
                "Load data\n"
            ]
        },
        {
            "cell_type": "code",
            "execution_count": null,
            "metadata": {},
            "outputs": [],
            "source": [
                "sdat  <- base::readRDS(url(\"https://slcladal.github.io/data/sdd.rda\", \"rb\"))\n",
                "# inspect \n",
                "head(sdat)\n",
                "# install required packages\n",
                "install.packages(\"likert\")\n",
                "# load pacjages\n",
                "library(likert)\n"
            ]
        },
        {
            "cell_type": "markdown",
            "metadata": {},
            "source": [
                "* clean column names\n",
                "\n"
            ]
        },
        {
            "cell_type": "code",
            "execution_count": null,
            "metadata": {},
            "outputs": [],
            "source": [
                "# clean column names\n",
                "colnames(sdat)[3:ncol(sdat)] <- paste0(\"Q \", str_pad(1:10, 2, \"left\", \"0\"), \": \", colnames(sdat)[3:ncol(sdat)]) %>%\n",
                "  stringr::str_replace_all(\"\\\\.\", \" \") %>%\n",
                "  stringr::str_squish() %>%\n",
                "  stringr::str_replace_all(\"$\", \"?\")\n",
                "# inspect column names\n",
                "colnames(sdat)\n"
            ]
        },
        {
            "cell_type": "markdown",
            "metadata": {},
            "source": [
                "* replace numeric values with labels\n",
                "\n"
            ]
        },
        {
            "cell_type": "code",
            "execution_count": null,
            "metadata": {},
            "outputs": [],
            "source": [
                "lbs <- c(\"disagree\", \"somewhat disagree\", \"neither agree nor disagree\",  \n",
                "         \"somewhat agree\", \"agree\")\n",
                "survey <- sdat %>%\n",
                "  dplyr::mutate_if(is.character, factor) %>%\n",
                "  dplyr::mutate_if(is.numeric, factor, levels = 1:5, labels = lbs) %>%\n",
                "  drop_na() %>%\n",
                "  as.data.frame()\n",
                "# inspect\n",
                "head(survey)\n"
            ]
        },
        {
            "cell_type": "markdown",
            "metadata": {},
            "source": [
                "\n",
                "\n"
            ]
        },
        {
            "cell_type": "code",
            "execution_count": null,
            "metadata": {},
            "outputs": [],
            "source": [
                "plot(likert(survey[,3:12]), ordered = F, wrap= 30)\n",
                "\n"
            ]
        },
        {
            "cell_type": "markdown",
            "metadata": {},
            "source": [
                "* save plot\n",
                "\n"
            ]
        },
        {
            "cell_type": "code",
            "execution_count": null,
            "metadata": {},
            "outputs": [],
            "source": [
                "survey_p1 <- plot(likert(survey[,3:12]), ordered = F, wrap= 60)\n",
                "# save plot\n",
                "cowplot::save_plot(\"stu_p1.png\", # where to save the plot\n",
                "                   survey_p1,        # object to plot\n",
                "                   base_asp = 1.5,  # ratio of space fro questions vs space for plot\n",
                "                   base_height = 8) # size! higher for smaller font size\n"
            ]
        },
        {
            "cell_type": "markdown",
            "metadata": {},
            "source": [
                "* include groups\n",
                "\n"
            ]
        },
        {
            "cell_type": "code",
            "execution_count": null,
            "metadata": {},
            "outputs": [],
            "source": [
                "# create plot\n",
                "survey_p2 <- plot(likert(survey[,3:8], grouping = survey[,1]))\n",
                "# save plot\n",
                "cowplot::save_plot(\"stu_p2.png\", # where to save the plot\n",
                "                   survey_p2,        # object to plot\n",
                "                   base_asp = 1.5,  # ratio of space fro questions vs space for plot\n",
                "                   base_height = 8) # size! higher for smaller font size\n",
                "# show plot\n",
                "survey_p2\n"
            ]
        },
        {
            "cell_type": "markdown",
            "metadata": {},
            "source": [
                "# Visualizing Model Effects\n",
                "\n",
                "* load data\n"
            ]
        },
        {
            "cell_type": "code",
            "execution_count": null,
            "metadata": {},
            "outputs": [],
            "source": [
                "regdat <- read.delim(\"AJT_V2.csv\", sep = \";\")\n",
                "# inspect data\n",
                "str(regdat)\n",
                "# install required packages\n",
                "install.packages(\"lme4\")\n",
                "install.packages(\"sjPlot\")\n",
                "# load packages\n",
                "library(lme4)\n",
                "library(sjPlot)\n"
            ]
        },
        {
            "cell_type": "markdown",
            "metadata": {},
            "source": [
                "* perform regression analysis\n",
                "\n"
            ]
        },
        {
            "cell_type": "code",
            "execution_count": null,
            "metadata": {},
            "outputs": [],
            "source": [
                "# run model\n",
                "m1 = glmer(Response_num ~ (1|ID) + Word_order + Sentence_type + Sentence_type * Group+Sentence_type * Word_order, \n",
                "                 data = regdat, \n",
                "                 family = binomial)\n",
                "# inspect results\n",
                "sjPlot::tab_model(m1)\n"
            ]
        },
        {
            "cell_type": "markdown",
            "metadata": {},
            "source": [
                "* visualize results\n",
                "\n"
            ]
        },
        {
            "cell_type": "code",
            "execution_count": null,
            "metadata": {},
            "outputs": [],
            "source": [
                "sjPlot::plot_model(m1, type = \"pred\", terms = c(\"Sentence_type\", \"Group\"))\n",
                "\n"
            ]
        },
        {
            "cell_type": "markdown",
            "metadata": {},
            "source": [
                "Show other significant interaction and modify plot.\n",
                "\n"
            ]
        },
        {
            "cell_type": "code",
            "execution_count": null,
            "metadata": {},
            "outputs": [],
            "source": [
                "sjPlot::plot_model(m1, type = \"pred\", terms = c(\"Sentence_type\", \"Word_order\"))  + \n",
                "  ggplot2::theme_bw() +\n",
                "  ggplot2::labs(x = \"Sentence Type\", y = \"Probability\\nfor Response = 1\")\n"
            ]
        },
        {
            "cell_type": "markdown",
            "metadata": {},
            "source": [
                "# Resources and Wrap-Up\n",
                "\n",
                "That's all folks!\n"
            ]
        }
    ],
    "metadata": {
        "anaconda-cloud": "",
        "kernelspec": {
            "display_name": "R",
            "langauge": "R",
            "name": "ir"
        },
        "language_info": {
            "codemirror_mode": "r",
            "file_extension": ".r",
            "mimetype": "text/x-r-source",
            "name": "R",
            "pygments_lexer": "r",
            "version": "3.4.1"
        }
    },
    "nbformat": 4,
    "nbformat_minor": 1
}
